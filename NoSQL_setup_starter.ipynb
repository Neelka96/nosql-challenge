{
 "cells": [
  {
   "cell_type": "markdown",
   "id": "9a57c4c6",
   "metadata": {},
   "source": [
    "# Eat Safe, Love"
   ]
  },
  {
   "cell_type": "markdown",
   "id": "064ef857",
   "metadata": {},
   "source": [
    "## Part 1: Database and Jupyter Notebook Set Up"
   ]
  },
  {
   "cell_type": "markdown",
   "id": "664e3c1f",
   "metadata": {},
   "source": [
    "### Data Import (JSON)\n",
    "Import the data provided in the `establishments.json` file from your Terminal. Name the database `uk_food` and the collection `establishments`.  \n",
    "\n",
    "1. **Navigate to Repository Clone**:  \n",
    "```bash\n",
    "    cd YOUR_REPO_PATH_GOES_HERE/nosql-challenge\n",
    "```  \n",
    "\n",
    "2. **Import the Dataset**:  \n",
    "```bash\n",
    "    mongoimport --type json -d uk_food -c establishments --drop --jsonArray Resources/establishments.json\n",
    "```  "
   ]
  },
  {
   "cell_type": "code",
   "execution_count": 2,
   "id": "3ecdd008",
   "metadata": {},
   "outputs": [],
   "source": [
    "# Import dependencies\n",
    "from pymongo import MongoClient\n",
    "from pprint import pprint"
   ]
  },
  {
   "cell_type": "code",
   "execution_count": 3,
   "id": "59390c4a",
   "metadata": {},
   "outputs": [],
   "source": [
    "# Create an instance of MongoClient\n",
    "mongo = MongoClient(port=27017)"
   ]
  },
  {
   "cell_type": "code",
   "execution_count": 16,
   "id": "7f9ececa",
   "metadata": {},
   "outputs": [
    {
     "name": "stdout",
     "output_type": "stream",
     "text": [
      "['admin',\n",
      " 'autosaurus',\n",
      " 'classDB',\n",
      " 'config',\n",
      " 'epa',\n",
      " 'fruits_db',\n",
      " 'local',\n",
      " 'met',\n",
      " 'petsitly_marketing',\n",
      " 'travel_db',\n",
      " 'uk_food']\n"
     ]
    }
   ],
   "source": [
    "# Confirm that our new database was created\n",
    "pprint(mongo.list_database_names())"
   ]
  },
  {
   "cell_type": "code",
   "execution_count": null,
   "id": "71e373c1",
   "metadata": {},
   "outputs": [],
   "source": [
    "# Assign the uk_food database to a variable name\n",
    "db = mongo['uk_food']"
   ]
  },
  {
   "cell_type": "code",
   "execution_count": 19,
   "id": "ef1b89ed",
   "metadata": {},
   "outputs": [
    {
     "name": "stdout",
     "output_type": "stream",
     "text": [
      "['establishments']\n"
     ]
    }
   ],
   "source": [
    "# Review the collections in our new database\n",
    "pprint(db.list_collection_names())"
   ]
  },
  {
   "cell_type": "code",
   "execution_count": 24,
   "id": "6a0d92df",
   "metadata": {},
   "outputs": [
    {
     "data": {
      "text/plain": [
       "{'_id': ObjectId('67b7bbf7ed2d0285e7f53bd9'),\n",
       " 'FHRSID': 1030622,\n",
       " 'ChangesByServerID': 0,\n",
       " 'LocalAuthorityBusinessID': 'PI/000078259',\n",
       " 'BusinessName': 'Portal House School',\n",
       " 'BusinessType': 'School/college/university',\n",
       " 'BusinessTypeID': 7845,\n",
       " 'AddressLine1': 'Sea Street',\n",
       " 'AddressLine2': 'St Margarets At Cliffe',\n",
       " 'AddressLine3': 'Kent',\n",
       " 'AddressLine4': '',\n",
       " 'PostCode': 'CT15 6SS',\n",
       " 'Phone': '',\n",
       " 'RatingValue': '5',\n",
       " 'RatingKey': 'fhrs_5_en-gb',\n",
       " 'RatingDate': '2019-11-13T00:00:00',\n",
       " 'LocalAuthorityCode': '182',\n",
       " 'LocalAuthorityName': 'Dover',\n",
       " 'LocalAuthorityWebSite': 'http://www.dover.gov.uk/',\n",
       " 'LocalAuthorityEmailAddress': 'publicprotection@dover.gov.uk',\n",
       " 'scores': {'Hygiene': 0, 'Structural': 0, 'ConfidenceInManagement': 5},\n",
       " 'SchemeType': 'FHRS',\n",
       " 'geocode': {'longitude': '1.375095', 'latitude': '51.152913'},\n",
       " 'RightToReply': '',\n",
       " 'Distance': 4587.840617011452,\n",
       " 'NewRatingPending': False,\n",
       " 'meta': {'dataSource': None,\n",
       "  'extractDate': '0001-01-01T00:00:00',\n",
       "  'itemCount': 0,\n",
       "  'returncode': None,\n",
       "  'totalCount': 0,\n",
       "  'totalPages': 0,\n",
       "  'pageSize': 0,\n",
       "  'pageNumber': 0},\n",
       " 'links': [{'rel': 'self',\n",
       "   'href': 'https://api.ratings.food.gov.uk/establishments/1030622'}]}"
      ]
     },
     "execution_count": 24,
     "metadata": {},
     "output_type": "execute_result"
    }
   ],
   "source": [
    "# Review a document in the establishments collection\n",
    "db['establishments'].find_one()"
   ]
  },
  {
   "cell_type": "code",
   "execution_count": 25,
   "id": "11c9f11b",
   "metadata": {},
   "outputs": [],
   "source": [
    "# Assign the collection to a variable\n",
    "establishments = db['establishments']"
   ]
  },
  {
   "cell_type": "markdown",
   "id": "d5671434",
   "metadata": {},
   "source": [
    "## Part 2: Update the Database"
   ]
  },
  {
   "cell_type": "markdown",
   "id": "314bd884",
   "metadata": {},
   "source": [
    "1. An exciting new halal restaurant just opened in Greenwich, but hasn't been rated yet. The magazine has asked you to include it in your analysis. Add the following restaurant \"Penang Flavours\" to the database."
   ]
  },
  {
   "cell_type": "markdown",
   "id": "3eb25c71",
   "metadata": {},
   "source": [
    "```python\n",
    "{\n",
    "    \"BusinessName\":\"Penang Flavours\",\n",
    "    \"BusinessType\":\"Restaurant/Cafe/Canteen\",\n",
    "    \"BusinessTypeID\":\"\",\n",
    "    \"AddressLine1\":\"Penang Flavours\",\n",
    "    \"AddressLine2\":\"146A Plumstead Rd\",\n",
    "    \"AddressLine3\":\"London\",\n",
    "    \"AddressLine4\":\"\",\n",
    "    \"PostCode\":\"SE18 7DY\",\n",
    "    \"Phone\":\"\",\n",
    "    \"LocalAuthorityCode\":\"511\",\n",
    "    \"LocalAuthorityName\":\"Greenwich\",\n",
    "    \"LocalAuthorityWebSite\":\"http://www.royalgreenwich.gov.uk\",\n",
    "    \"LocalAuthorityEmailAddress\":\"health@royalgreenwich.gov.uk\",\n",
    "    \"scores\":{\n",
    "        \"Hygiene\":\"\",\n",
    "        \"Structural\":\"\",\n",
    "        \"ConfidenceInManagement\":\"\"\n",
    "    },\n",
    "    \"SchemeType\":\"FHRS\",\n",
    "    \"geocode\":{\n",
    "        \"longitude\":\"0.08384000\",\n",
    "        \"latitude\":\"51.49014200\"\n",
    "    },\n",
    "    \"RightToReply\":\"\",\n",
    "    \"Distance\":4623.9723280747176,\n",
    "    \"NewRatingPending\":True\n",
    "}\n",
    "```"
   ]
  },
  {
   "cell_type": "code",
   "execution_count": 26,
   "id": "c2da7648",
   "metadata": {},
   "outputs": [],
   "source": [
    "# Create a dictionary for the new restaurant data\n",
    "post = {\n",
    "    \"BusinessName\":\"Penang Flavours\",\n",
    "    \"BusinessType\":\"Restaurant/Cafe/Canteen\",\n",
    "    \"BusinessTypeID\":\"\",\n",
    "    \"AddressLine1\":\"Penang Flavours\",\n",
    "    \"AddressLine2\":\"146A Plumstead Rd\",\n",
    "    \"AddressLine3\":\"London\",\n",
    "    \"AddressLine4\":\"\",\n",
    "    \"PostCode\":\"SE18 7DY\",\n",
    "    \"Phone\":\"\",\n",
    "    \"LocalAuthorityCode\":\"511\",\n",
    "    \"LocalAuthorityName\":\"Greenwich\",\n",
    "    \"LocalAuthorityWebSite\":\"http://www.royalgreenwich.gov.uk\",\n",
    "    \"LocalAuthorityEmailAddress\":\"health@royalgreenwich.gov.uk\",\n",
    "    \"scores\":\n",
    "        {\n",
    "            \"Hygiene\":\"\",\n",
    "            \"Structural\":\"\",\n",
    "            \"ConfidenceInManagement\":\"\"\n",
    "        },\n",
    "    \"SchemeType\":\"FHRS\",\n",
    "    \"geocode\": \n",
    "        {\n",
    "            \"longitude\":\"0.08384000\",\n",
    "            \"latitude\":\"51.49014200\"\n",
    "        },\n",
    "    \"RightToReply\":\"\",\n",
    "    \"Distance\":4623.9723280747176,\n",
    "    \"NewRatingPending\":True\n",
    "}"
   ]
  },
  {
   "cell_type": "code",
   "execution_count": 27,
   "id": "a6e5cece",
   "metadata": {},
   "outputs": [
    {
     "data": {
      "text/plain": [
       "InsertOneResult(ObjectId('67b7bffcb4f0e67ba08aa25d'), acknowledged=True)"
      ]
     },
     "execution_count": 27,
     "metadata": {},
     "output_type": "execute_result"
    }
   ],
   "source": [
    "# Insert the new restaurant into the collection\n",
    "establishments.insert_one(post)"
   ]
  },
  {
   "cell_type": "code",
   "execution_count": 89,
   "id": "63bb10f9",
   "metadata": {},
   "outputs": [
    {
     "name": "stdout",
     "output_type": "stream",
     "text": [
      "{'AddressLine1': 'Penang Flavours',\n",
      " 'AddressLine2': '146A Plumstead Rd',\n",
      " 'AddressLine3': 'London',\n",
      " 'AddressLine4': '',\n",
      " 'BusinessName': 'Penang Flavours',\n",
      " 'BusinessType': 'Restaurant/Cafe/Canteen',\n",
      " 'BusinessTypeID': '',\n",
      " 'Distance': 4623.972328074718,\n",
      " 'LocalAuthorityCode': '511',\n",
      " 'LocalAuthorityEmailAddress': 'health@royalgreenwich.gov.uk',\n",
      " 'LocalAuthorityName': 'Greenwich',\n",
      " 'LocalAuthorityWebSite': 'http://www.royalgreenwich.gov.uk',\n",
      " 'NewRatingPending': True,\n",
      " 'Phone': '',\n",
      " 'PostCode': 'SE18 7DY',\n",
      " 'RightToReply': '',\n",
      " 'SchemeType': 'FHRS',\n",
      " '_id': ObjectId('67b7bffcb4f0e67ba08aa25d'),\n",
      " 'geocode': {'latitude': '51.49014200', 'longitude': '0.08384000'},\n",
      " 'scores': {'ConfidenceInManagement': '', 'Hygiene': '', 'Structural': ''}}\n"
     ]
    }
   ],
   "source": [
    "# Check that the new restaurant was inserted\n",
    "query = {'BusinessName': 'Penang Flavours'}\n",
    "pprint(*establishments.find(query))"
   ]
  },
  {
   "cell_type": "markdown",
   "id": "0ef4395a",
   "metadata": {},
   "source": [
    "2. Find the BusinessTypeID for \"Restaurant/Cafe/Canteen\" and return only the `BusinessTypeID` and `BusinessType` fields."
   ]
  },
  {
   "cell_type": "code",
   "execution_count": 91,
   "id": "93c63829",
   "metadata": {},
   "outputs": [
    {
     "name": "stdout",
     "output_type": "stream",
     "text": [
      "[{'BusinessType': 'Restaurant/Cafe/Canteen',\n",
      "  'BusinessTypeID': 1,\n",
      "  '_id': ObjectId('67b7bbf7ed2d0285e7f53bda')}]\n",
      "\n",
      "\n",
      "BusinessTypeID for \"Restaurant/Cafe/Canteen\" is: 1\n"
     ]
    }
   ],
   "source": [
    "# Find the BusinessTypeID for \"Restaurant/Cafe/Canteen\" and return only the BusinessTypeID and BusinessType fields\n",
    "query = {'BusinessType': 'Restaurant/Cafe/Canteen'}\n",
    "fields = {'BusinessTypeID': 1, 'BusinessType': 1}\n",
    "limit = 1\n",
    "\n",
    "response = [*establishments.find(query, fields).limit(limit)]\n",
    "pprint(response)\n",
    "\n",
    "new_typeID = response[0]['BusinessTypeID']\n",
    "\n",
    "print(f'\\n\\nBusinessTypeID for \"Restaurant/Cafe/Canteen\" is: {new_typeID}')"
   ]
  },
  {
   "cell_type": "markdown",
   "id": "4e570caf",
   "metadata": {},
   "source": [
    "3. Update the new restaurant with the `BusinessTypeID` you found."
   ]
  },
  {
   "cell_type": "code",
   "execution_count": 93,
   "id": "7f599f3d",
   "metadata": {},
   "outputs": [
    {
     "data": {
      "text/plain": [
       "UpdateResult({'n': 1, 'nModified': 1, 'ok': 1.0, 'updatedExisting': True}, acknowledged=True)"
      ]
     },
     "execution_count": 93,
     "metadata": {},
     "output_type": "execute_result"
    }
   ],
   "source": [
    "# Update the new restaurant with the correct BusinessTypeID\n",
    "query = {'BusinessName': 'Penang Flavours'}\n",
    "update = {'BusinessTypeID': new_typeID}\n",
    "\n",
    "establishments.update_one(query, {'$set': update})"
   ]
  },
  {
   "cell_type": "code",
   "execution_count": 95,
   "id": "a6ad16f7",
   "metadata": {},
   "outputs": [
    {
     "name": "stdout",
     "output_type": "stream",
     "text": [
      "{'AddressLine1': 'Penang Flavours',\n",
      " 'AddressLine2': '146A Plumstead Rd',\n",
      " 'AddressLine3': 'London',\n",
      " 'AddressLine4': '',\n",
      " 'BusinessName': 'Penang Flavours',\n",
      " 'BusinessType': 'Restaurant/Cafe/Canteen',\n",
      " 'BusinessTypeID': 1,\n",
      " 'Distance': 4623.972328074718,\n",
      " 'LocalAuthorityCode': '511',\n",
      " 'LocalAuthorityEmailAddress': 'health@royalgreenwich.gov.uk',\n",
      " 'LocalAuthorityName': 'Greenwich',\n",
      " 'LocalAuthorityWebSite': 'http://www.royalgreenwich.gov.uk',\n",
      " 'NewRatingPending': True,\n",
      " 'Phone': '',\n",
      " 'PostCode': 'SE18 7DY',\n",
      " 'RightToReply': '',\n",
      " 'SchemeType': 'FHRS',\n",
      " '_id': ObjectId('67b7bffcb4f0e67ba08aa25d'),\n",
      " 'geocode': {'latitude': '51.49014200', 'longitude': '0.08384000'},\n",
      " 'scores': {'ConfidenceInManagement': '', 'Hygiene': '', 'Structural': ''}}\n"
     ]
    }
   ],
   "source": [
    "# Confirm that the new restaurant was updated\n",
    "pprint(*establishments.find(query))"
   ]
  },
  {
   "cell_type": "markdown",
   "id": "67281254",
   "metadata": {},
   "source": [
    "4. The magazine is not interested in any establishments in Dover, so check how many documents contain the Dover Local Authority. Then, remove any establishments within the Dover Local Authority from the database, and check the number of documents to ensure they were deleted."
   ]
  },
  {
   "cell_type": "code",
   "execution_count": null,
   "id": "768474a6",
   "metadata": {},
   "outputs": [],
   "source": [
    "# Find how many documents have LocalAuthorityName as \"Dover\"\n"
   ]
  },
  {
   "cell_type": "code",
   "execution_count": null,
   "id": "a11d5f1b",
   "metadata": {},
   "outputs": [],
   "source": [
    "# Delete all documents where LocalAuthorityName is \"Dover\"\n"
   ]
  },
  {
   "cell_type": "code",
   "execution_count": null,
   "id": "2a51aba0",
   "metadata": {},
   "outputs": [],
   "source": [
    "# Check if any remaining documents include Dover\n"
   ]
  },
  {
   "cell_type": "code",
   "execution_count": null,
   "id": "8c356f7b",
   "metadata": {},
   "outputs": [],
   "source": [
    "# Check that other documents remain with 'find_one'\n"
   ]
  },
  {
   "attachments": {},
   "cell_type": "markdown",
   "id": "e9f1662d",
   "metadata": {},
   "source": [
    "5. Some of the number values are stored as strings, when they should be stored as numbers."
   ]
  },
  {
   "attachments": {},
   "cell_type": "markdown",
   "id": "c46df2df",
   "metadata": {},
   "source": [
    "Use `update_many` to convert `latitude` and `longitude` to decimal numbers."
   ]
  },
  {
   "cell_type": "code",
   "execution_count": null,
   "id": "fd4112ce",
   "metadata": {},
   "outputs": [],
   "source": [
    "# Change the data type from String to Decimal for longitude and latitude\n"
   ]
  },
  {
   "attachments": {},
   "cell_type": "markdown",
   "id": "142e319c",
   "metadata": {},
   "source": [
    "Use `update_many` to convert `RatingValue` to integer numbers."
   ]
  },
  {
   "cell_type": "code",
   "execution_count": null,
   "id": "04430a5b",
   "metadata": {},
   "outputs": [],
   "source": [
    "# Set non 1-5 Rating Values to Null\n",
    "non_ratings = [\"AwaitingInspection\", \"Awaiting Inspection\", \"AwaitingPublication\", \"Pass\", \"Exempt\"]\n",
    "establishments.update_many({\"RatingValue\": {\"$in\": non_ratings}}, [ {'$set':{ \"RatingValue\" : None}} ])"
   ]
  },
  {
   "cell_type": "code",
   "execution_count": null,
   "id": "92524ccc",
   "metadata": {},
   "outputs": [],
   "source": [
    "# Change the data type from String to Integer for RatingValue\n"
   ]
  },
  {
   "cell_type": "code",
   "execution_count": null,
   "id": "0deacaf9",
   "metadata": {},
   "outputs": [],
   "source": [
    "# Check that the coordinates and rating value are now numbers\n"
   ]
  }
 ],
 "metadata": {
  "kernelspec": {
   "display_name": "base",
   "language": "python",
   "name": "python3"
  },
  "language_info": {
   "codemirror_mode": {
    "name": "ipython",
    "version": 3
   },
   "file_extension": ".py",
   "mimetype": "text/x-python",
   "name": "python",
   "nbconvert_exporter": "python",
   "pygments_lexer": "ipython3",
   "version": "3.12.2"
  }
 },
 "nbformat": 4,
 "nbformat_minor": 5
}
